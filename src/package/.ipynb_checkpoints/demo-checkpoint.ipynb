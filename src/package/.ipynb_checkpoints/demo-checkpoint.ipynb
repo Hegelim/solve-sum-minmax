{
 "cells": [
  {
   "cell_type": "code",
   "execution_count": 20,
   "id": "9d04d935-6873-4e6c-b3f8-b070655f5457",
   "metadata": {},
   "outputs": [],
   "source": [
    "import re\n",
    "from sympy.solvers import solve \n",
    "from sympy import Symbol\n",
    "from itertools import combinations, product"
   ]
  },
  {
   "cell_type": "code",
   "execution_count": 12,
   "id": "c8ed39fc-43dd-42d6-95d3-f9138f09a782",
   "metadata": {},
   "outputs": [
    {
     "name": "stdout",
     "output_type": "stream",
     "text": [
      "Wall time: 997 µs\n"
     ]
    },
    {
     "data": {
      "text/plain": [
       "[('+', 'min', '(400, 400*a)'),\n",
       " ('+', 'min', '(400, 400*a)'),\n",
       " ('+', 'min', '(0, 100*a)')]"
      ]
     },
     "execution_count": 12,
     "metadata": {},
     "output_type": "execute_result"
    }
   ],
   "source": [
    "%%time\n",
    "a = '+ min(400, 400*a) + min(400, 400*a) + min(0, 100*a) = 200'\n",
    "m = re.findall(r\"(\\+|\\-)\\s+(min|max)(\\([^\\)]+\\))\", a) \n",
    "m"
   ]
  },
  {
   "cell_type": "code",
   "execution_count": 14,
   "id": "56adcb31-bf64-4c4e-a0cb-917542ffae80",
   "metadata": {},
   "outputs": [
    {
     "name": "stdout",
     "output_type": "stream",
     "text": [
      "Wall time: 0 ns\n"
     ]
    },
    {
     "data": {
      "text/plain": [
       "[['400', '400*a'], ['400', '400*a'], ['0', '100*a']]"
      ]
     },
     "execution_count": 14,
     "metadata": {},
     "output_type": "execute_result"
    }
   ],
   "source": [
    "%%time\n",
    "lists = [] \n",
    "for equation in m:\n",
    "    match = re.match(r\"\\((\\d+),\\s+(\\d+\\*[a-z])\", equation[2])\n",
    "    lists.append([match.group(1), match.group(2)])\n",
    "lists"
   ]
  },
  {
   "cell_type": "code",
   "execution_count": 23,
   "id": "05e59943-73c7-4d3d-8e18-b6f1a03093ca",
   "metadata": {},
   "outputs": [
    {
     "data": {
      "text/plain": [
       "[('400', '400', '0'),\n",
       " ('400', '400', '100*a'),\n",
       " ('400', '400*a', '0'),\n",
       " ('400', '400*a', '100*a'),\n",
       " ('400*a', '400', '0'),\n",
       " ('400*a', '400', '100*a'),\n",
       " ('400*a', '400*a', '0'),\n",
       " ('400*a', '400*a', '100*a')]"
      ]
     },
     "execution_count": 23,
     "metadata": {},
     "output_type": "execute_result"
    }
   ],
   "source": [
    "list(product(*lists))"
   ]
  },
  {
   "cell_type": "code",
   "execution_count": 10,
   "id": "0ad4ad73-7949-464c-8a68-84ff41fb0057",
   "metadata": {},
   "outputs": [
    {
     "ename": "TypeError",
     "evalue": "'tuple' object does not support item assignment",
     "output_type": "error",
     "traceback": [
      "\u001b[1;31m---------------------------------------------------------------------------\u001b[0m",
      "\u001b[1;31mTypeError\u001b[0m                                 Traceback (most recent call last)",
      "\u001b[1;32m<ipython-input-10-94747ab941c2>\u001b[0m in \u001b[0;36m<module>\u001b[1;34m\u001b[0m\n\u001b[0;32m      1\u001b[0m \u001b[1;32mfor\u001b[0m \u001b[0mequation\u001b[0m \u001b[1;32min\u001b[0m \u001b[0mm\u001b[0m\u001b[1;33m:\u001b[0m\u001b[1;33m\u001b[0m\u001b[1;33m\u001b[0m\u001b[0m\n\u001b[0;32m      2\u001b[0m     \u001b[0mm\u001b[0m \u001b[1;33m=\u001b[0m \u001b[0mre\u001b[0m\u001b[1;33m.\u001b[0m\u001b[0mmatch\u001b[0m\u001b[1;33m(\u001b[0m\u001b[1;34mr\"\\((\\d+),\\s+(\\d+\\*[a-z])\"\u001b[0m\u001b[1;33m,\u001b[0m \u001b[0mequation\u001b[0m\u001b[1;33m[\u001b[0m\u001b[1;36m2\u001b[0m\u001b[1;33m]\u001b[0m\u001b[1;33m)\u001b[0m\u001b[1;33m\u001b[0m\u001b[1;33m\u001b[0m\u001b[0m\n\u001b[1;32m----> 3\u001b[1;33m     \u001b[0mequation\u001b[0m\u001b[1;33m[\u001b[0m\u001b[1;36m2\u001b[0m\u001b[1;33m]\u001b[0m \u001b[1;33m=\u001b[0m \u001b[1;33m(\u001b[0m\u001b[0mm\u001b[0m\u001b[1;33m.\u001b[0m\u001b[0mgroup\u001b[0m\u001b[1;33m(\u001b[0m\u001b[1;36m1\u001b[0m\u001b[1;33m)\u001b[0m\u001b[1;33m,\u001b[0m \u001b[0mm\u001b[0m\u001b[1;33m.\u001b[0m\u001b[0mgroup\u001b[0m\u001b[1;33m(\u001b[0m\u001b[1;36m2\u001b[0m\u001b[1;33m)\u001b[0m\u001b[1;33m)\u001b[0m\u001b[1;33m\u001b[0m\u001b[1;33m\u001b[0m\u001b[0m\n\u001b[0m\u001b[0;32m      4\u001b[0m \u001b[0mm\u001b[0m\u001b[1;33m\u001b[0m\u001b[1;33m\u001b[0m\u001b[0m\n",
      "\u001b[1;31mTypeError\u001b[0m: 'tuple' object does not support item assignment"
     ]
    }
   ],
   "source": [
    "for equation in m:\n",
    "    operator = equation[0]\n",
    "    compare = equation[1]\n",
    "    match = re.match(r\"\\((\\d+),\\s+(\\d+\\*[a-z])\", equation[2])\n",
    "    \n",
    "m"
   ]
  },
  {
   "cell_type": "code",
   "execution_count": 6,
   "id": "fd698ac3-48a8-486b-99a3-b77eb0e31839",
   "metadata": {},
   "outputs": [
    {
     "name": "stdout",
     "output_type": "stream",
     "text": [
      "400\n",
      "400*a\n"
     ]
    },
    {
     "data": {
      "text/plain": [
       "('400', '400*a')"
      ]
     },
     "execution_count": 6,
     "metadata": {},
     "output_type": "execute_result"
    }
   ],
   "source": [
    "a = '(400, 400*a)'\n",
    "m = re.match(r\"\\((\\d+),\\s+(\\d+\\*[a-z])\", a)\n",
    "if m: \n",
    "    print(m.group(1))\n",
    "    print(m.group(2))\n",
    "(m.group(1), m.group(2))"
   ]
  },
  {
   "cell_type": "code",
   "execution_count": null,
   "id": "42c9c0a8-96ea-477c-a743-54758326b05a",
   "metadata": {},
   "outputs": [],
   "source": [
    "a = '(400, 400*a)'\n",
    "m = re.match(r\"\\((\\d+),\", a)\n",
    "if m: \n",
    "    print(m.group(1))"
   ]
  },
  {
   "cell_type": "code",
   "execution_count": null,
   "id": "209296b3-1816-4b88-94f7-a16a306e10a6",
   "metadata": {},
   "outputs": [],
   "source": [
    "x = Symbol(\"x\")\n",
    "result = solve(400*x+400+100*x-1000, x)\n",
    "result[0]"
   ]
  },
  {
   "cell_type": "code",
   "execution_count": null,
   "id": "bf80db70-e224-4310-b470-c54f71878653",
   "metadata": {},
   "outputs": [],
   "source": [
    "result[0] + 3"
   ]
  }
 ],
 "metadata": {
  "kernelspec": {
   "display_name": "Python 3",
   "language": "python",
   "name": "python3"
  },
  "language_info": {
   "codemirror_mode": {
    "name": "ipython",
    "version": 3
   },
   "file_extension": ".py",
   "mimetype": "text/x-python",
   "name": "python",
   "nbconvert_exporter": "python",
   "pygments_lexer": "ipython3",
   "version": "3.9.4"
  }
 },
 "nbformat": 4,
 "nbformat_minor": 5
}

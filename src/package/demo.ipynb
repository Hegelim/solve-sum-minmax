{
 "cells": [
  {
   "cell_type": "code",
   "execution_count": 4,
   "id": "9d04d935-6873-4e6c-b3f8-b070655f5457",
   "metadata": {},
   "outputs": [],
   "source": [
    "import solve_sum_min_max\n",
    "import re"
   ]
  },
  {
   "cell_type": "code",
   "execution_count": 5,
   "id": "1eba9594-3dea-4ef1-9e4b-56ba877bd76d",
   "metadata": {},
   "outputs": [
    {
     "data": {
      "text/plain": [
       "['min(400, 400*a) ', ' min(400, 400*a) ', ' min(0, 100*a)']"
      ]
     },
     "execution_count": 5,
     "metadata": {},
     "output_type": "execute_result"
    }
   ],
   "source": [
    "a = 'min(400, 400*a) + min(400, 400*a) + min(0, 100*a)'.split(\"+\")\n",
    "a"
   ]
  },
  {
   "cell_type": "code",
   "execution_count": 10,
   "id": "ada588fb-987f-4e25-a4cd-825f53c7ab06",
   "metadata": {},
   "outputs": [
    {
     "data": {
      "text/plain": [
       "'min(400, 400*alpha) + min(400, 400*alpha) + min(0, 100*alpha)'"
      ]
     },
     "execution_count": 10,
     "metadata": {},
     "output_type": "execute_result"
    }
   ],
   "source": [
    "'min(400, 400*a) + min(400, 400*a) + min(0, 100*a)'.replace(\"a\", \"alpha\")"
   ]
  },
  {
   "cell_type": "code",
   "execution_count": 9,
   "id": "fca9c0d3-5403-4def-b96d-9b76ff7df927",
   "metadata": {},
   "outputs": [
    {
     "data": {
      "text/plain": [
       "['400', '400']"
      ]
     },
     "execution_count": 9,
     "metadata": {},
     "output_type": "execute_result"
    }
   ],
   "source": [
    "m = re.compile(\"\\d+\")\n",
    "m.findall(a[0])"
   ]
  },
  {
   "cell_type": "code",
   "execution_count": null,
   "id": "0ef9200f-c6b7-4f60-b86d-29638f34cd54",
   "metadata": {},
   "outputs": [],
   "source": [
    "for p in 'min(400, 400*a) + min(400, 400*a) + min(0, 100*a)'.split(\"+\"):\n",
    "    "
   ]
  },
  {
   "cell_type": "code",
   "execution_count": 11,
   "id": "110e4f6c-4d8a-4986-83ef-b57da73c2525",
   "metadata": {},
   "outputs": [
    {
     "data": {
      "text/plain": [
       "['min(400, 400*a) ', '']"
      ]
     },
     "execution_count": 11,
     "metadata": {},
     "output_type": "execute_result"
    }
   ],
   "source": [
    "\"min(400, 400*a) +\".split(\"+\")"
   ]
  }
 ],
 "metadata": {
  "kernelspec": {
   "display_name": "Python 3",
   "language": "python",
   "name": "python3"
  },
  "language_info": {
   "codemirror_mode": {
    "name": "ipython",
    "version": 3
   },
   "file_extension": ".py",
   "mimetype": "text/x-python",
   "name": "python",
   "nbconvert_exporter": "python",
   "pygments_lexer": "ipython3",
   "version": "3.9.4"
  }
 },
 "nbformat": 4,
 "nbformat_minor": 5
}

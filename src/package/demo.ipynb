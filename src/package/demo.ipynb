{
 "cells": [
  {
   "cell_type": "code",
   "execution_count": 1,
   "id": "9d04d935-6873-4e6c-b3f8-b070655f5457",
   "metadata": {},
   "outputs": [],
   "source": [
    "import re\n",
    "from sympy.solvers import solve \n",
    "from sympy import Symbol\n",
    "from itertools import combinations, product"
   ]
  },
  {
   "cell_type": "code",
   "execution_count": 2,
   "id": "c8ed39fc-43dd-42d6-95d3-f9138f09a782",
   "metadata": {},
   "outputs": [
    {
     "name": "stdout",
     "output_type": "stream",
     "text": [
      "Wall time: 996 µs\n"
     ]
    },
    {
     "data": {
      "text/plain": [
       "[('+', 'min', '(400, 400*a)'),\n",
       " ('+', 'min', '(400, 400*a)'),\n",
       " ('+', 'min', '(0, 100*a)')]"
      ]
     },
     "execution_count": 2,
     "metadata": {},
     "output_type": "execute_result"
    }
   ],
   "source": [
    "%%time\n",
    "solve_eq = '+ min(400, 400*a) + min(400, 400*a) + min(0, 100*a) = 200'\n",
    "value = re.search(r\"=\\s+(\\d+)\", solve_eq).group(1)\n",
    "compartments = re.findall(r\"(\\+|\\-)\\s+(min|max)(\\([^\\)]+\\))\", solve_eq) \n",
    "compartments"
   ]
  },
  {
   "cell_type": "code",
   "execution_count": 4,
   "id": "62903209-3940-449b-a9a0-c25b6a2ad983",
   "metadata": {},
   "outputs": [
    {
     "data": {
      "text/plain": [
       "[('400', '400*a')]"
      ]
     },
     "execution_count": 4,
     "metadata": {},
     "output_type": "execute_result"
    }
   ],
   "source": [
    "m = re.findall(r\"(\\d+[\\*a-z]*),\\s+(\\d+[\\*a-z]*)\", '(400, 400*a)')\n",
    "m"
   ]
  },
  {
   "cell_type": "code",
   "execution_count": 6,
   "id": "56adcb31-bf64-4c4e-a0cb-917542ffae80",
   "metadata": {},
   "outputs": [
    {
     "name": "stdout",
     "output_type": "stream",
     "text": [
      "Wall time: 0 ns\n"
     ]
    },
    {
     "data": {
      "text/plain": [
       "[('400', '400*a'), ('400', '400*a'), ('0', '100*a')]"
      ]
     },
     "execution_count": 6,
     "metadata": {},
     "output_type": "execute_result"
    }
   ],
   "source": [
    "%%time\n",
    "lists = [] \n",
    "for equation in compartments:\n",
    "    match = re.findall(r\"(\\d+[\\*a-z]*),\\s+(\\d+[\\*a-z]*)\", equation[2])\n",
    "    lists.append(match[0])\n",
    "lists"
   ]
  },
  {
   "cell_type": "code",
   "execution_count": 7,
   "id": "05e59943-73c7-4d3d-8e18-b6f1a03093ca",
   "metadata": {},
   "outputs": [
    {
     "name": "stdout",
     "output_type": "stream",
     "text": [
      "Wall time: 0 ns\n"
     ]
    },
    {
     "data": {
      "text/plain": [
       "[('400', '400', '0'),\n",
       " ('400', '400', '100*a'),\n",
       " ('400', '400*a', '0'),\n",
       " ('400', '400*a', '100*a'),\n",
       " ('400*a', '400', '0'),\n",
       " ('400*a', '400', '100*a'),\n",
       " ('400*a', '400*a', '0'),\n",
       " ('400*a', '400*a', '100*a')]"
      ]
     },
     "execution_count": 7,
     "metadata": {},
     "output_type": "execute_result"
    }
   ],
   "source": [
    "%%time\n",
    "products = list(product(*lists))\n",
    "products"
   ]
  },
  {
   "cell_type": "code",
   "execution_count": 8,
   "id": "2ea6c008-87cb-4a84-8e18-218fe0267b18",
   "metadata": {},
   "outputs": [],
   "source": [
    "def convert_letters(matchobj):\n",
    "    m = matchobj.group()\n",
    "    match_map = {m: \"*result[0]\"} if len(m) == 2 else {m: m}\n",
    "    return match_map[m]"
   ]
  },
  {
   "cell_type": "code",
   "execution_count": 10,
   "id": "f099b021-f096-46fc-a9fb-a3458ddb9c83",
   "metadata": {},
   "outputs": [
    {
     "name": "stdout",
     "output_type": "stream",
     "text": [
      "1/4\n"
     ]
    }
   ],
   "source": [
    "a_replace = re.sub(r\"\\*([a-z]+)\", convert_letters, solve_eq)\n",
    "a_replace = a_replace.replace(r\"=\", \"==\") \n",
    "a = Symbol(\"a\")\n",
    "sols = [] \n",
    "\n",
    "for p in products:\n",
    "    knit = \"\"\n",
    "    for i, operand in enumerate(p):\n",
    "        operator = compartments[i][0]\n",
    "        knit += f\"{operator}{operand}\"\n",
    "    knit += f\"-{value}\"\n",
    "    result = solve(eval(knit), a)\n",
    "    if len(result) == 0:\n",
    "        continue\n",
    "    if eval(a_replace):\n",
    "        print(result[0])"
   ]
  }
 ],
 "metadata": {
  "kernelspec": {
   "display_name": "Python 3",
   "language": "python",
   "name": "python3"
  },
  "language_info": {
   "codemirror_mode": {
    "name": "ipython",
    "version": 3
   },
   "file_extension": ".py",
   "mimetype": "text/x-python",
   "name": "python",
   "nbconvert_exporter": "python",
   "pygments_lexer": "ipython3",
   "version": "3.9.4"
  }
 },
 "nbformat": 4,
 "nbformat_minor": 5
}
